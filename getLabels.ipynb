{
  "nbformat": 4,
  "nbformat_minor": 0,
  "metadata": {
    "colab": {
      "name": "getLabels.ipynb",
      "provenance": [],
      "mount_file_id": "1mBKs_W9uMQ8VH23iNZOmYUKrDNcVjcGT",
      "authorship_tag": "ABX9TyOMKZzQcCM5L8SqttfqGvgb",
      "include_colab_link": true
    },
    "kernelspec": {
      "name": "python3",
      "display_name": "Python 3"
    },
    "language_info": {
      "name": "python"
    }
  },
  "cells": [
    {
      "cell_type": "markdown",
      "metadata": {
        "id": "view-in-github",
        "colab_type": "text"
      },
      "source": [
        "<a href=\"https://colab.research.google.com/github/sisifo3/P_T_3/blob/main/getLabels.ipynb\" target=\"_parent\"><img src=\"https://colab.research.google.com/assets/colab-badge.svg\" alt=\"Open In Colab\"/></a>"
      ]
    },
    {
      "cell_type": "code",
      "metadata": {
        "colab": {
          "base_uri": "https://localhost:8080/"
        },
        "id": "QwSMFaKC0PPN",
        "outputId": "0019b7d5-d0fb-4123-ce41-e29a5e6856cb"
      },
      "source": [
        "from google.colab import drive\n",
        "drive.mount('/content/drive')"
      ],
      "execution_count": null,
      "outputs": [
        {
          "output_type": "stream",
          "name": "stdout",
          "text": [
            "Mounted at /content/drive\n"
          ]
        }
      ]
    },
    {
      "cell_type": "code",
      "metadata": {
        "id": "TmwK30W00Gt0"
      },
      "source": [
        "import random\n",
        "import matplotlib.pyplot as plt\n",
        "import numpy as np\n",
        "import pandas as pd\n",
        "from PIL import Image\n",
        "\n",
        "from torchvision import transforms\n",
        "\n",
        "import torch\n",
        "from torch.utils.data import Dataset\n",
        "#from utils import multihot\n",
        "#from image_utils import clahe, get_aug\n",
        "\n",
        "\n",
        "# def getImagesLabels(filename):\n",
        "#     df = pd.read_csv(filename)\n",
        "\n",
        "#     X = df['Path']\n",
        "#     y = df[['Atelectasis', 'Cardiomegaly', 'Consolidation', 'Edema', 'Pleural Effusion']]\n",
        "\n",
        "#     return np.asarray(X), np.asarray(y)\n",
        "\n",
        "def getImagesLabels(filename, policy):\n",
        "    \"\"\"\n",
        "    filename: path to the csv file containing all the imagepaths and associated labels\n",
        "    \"\"\"\n",
        "    df = pd.read_csv(filename)\n",
        "    relevant_cols = ['Path', 'Enlarged Cardiomediastinum', 'Lung Opacity', 'Lung Lesion', 'Consolidation', \n",
        "                     'Pneumonia', 'Pneumothorax', 'Pleural Other', 'Support Devices', 'No Finding',\n",
        "                     'Atelectasis', 'Cardiomegaly', 'Consolidation', 'Edema', 'Pleural Effusion']\n",
        "\n",
        "    df = df[relevant_cols]\n",
        "    df = df.replace(np.nan, 0.0)\n",
        "\n",
        "    if policy == 'zeros':\n",
        "        df = df.replace(-1.0, 0.0)\n",
        "    elif policy == 'ones':\n",
        "        df = df.replace(-1.0, 1.0)\n",
        "    elif policy == 'both':\n",
        "        df['Cardiomegaly'] = df['Cardiomegaly'].replace(-1.0, 0.0)\n",
        "        df['Consolidation'] = df['Consolidation'].replace(-1.0, 0.0)\n",
        "\n",
        "        df['Atelectasis'] = df['Atelectasis'].replace(-1.0, 1.0)\n",
        "        df['Edema'] = df['Edema'].replace(-1.0, 1.0)\n",
        "        df['Pleural Effusion'] = df['Pleural Effusion'].replace(-1.0, 1.0)\n",
        "\n",
        "    elif policy == 'multi' or policy == 'ignore':\n",
        "        df = df.replace(-1.0, 2.0)\n",
        "\n",
        "    # df = df[df['Path'].str.contains('frontal')] ###\n",
        "\n",
        "    X = df['Path']\n",
        "    y = df[['Enlarged Cardiomediastinum', 'Lung Opacity', 'Lung Lesion', 'Consolidation', \n",
        "            'Pneumonia', 'Pneumothorax', 'Pleural Other', 'Support Devices', 'No Finding',\n",
        "            'Atelectasis', 'Cardiomegaly', 'Consolidation', 'Edema', 'Pleural Effusion']]\n",
        "\n",
        "    return np.asarray(X), np.asarray(y)\n"
      ],
      "execution_count": 16,
      "outputs": []
    },
    {
      "cell_type": "code",
      "metadata": {
        "id": "D5-1ifXbOf9U"
      },
      "source": [
        "policy = 'zeros'\n",
        "filename = '/content/drive/MyDrive/train.csv'\n",
        "x,y = getImagesLabels(filename, policy)\n"
      ],
      "execution_count": 17,
      "outputs": []
    },
    {
      "cell_type": "code",
      "metadata": {
        "id": "swRSIp0FHqB4"
      },
      "source": [
        "df = pd.read_csv(filename)\n",
        "df.head()"
      ],
      "execution_count": null,
      "outputs": []
    },
    {
      "cell_type": "code",
      "metadata": {
        "colab": {
          "base_uri": "https://localhost:8080/"
        },
        "id": "mL5y0yeJREE3",
        "outputId": "0cd5db7a-c51c-45d8-9cb2-12b12b1107f1"
      },
      "source": [
        "print(len(y[10]))"
      ],
      "execution_count": 25,
      "outputs": [
        {
          "output_type": "stream",
          "name": "stdout",
          "text": [
            "16\n"
          ]
        }
      ]
    },
    {
      "cell_type": "code",
      "metadata": {
        "id": "1ZZzMgZSIjFx"
      },
      "source": [
        "import random\n",
        "import matplotlib.pyplot as plt\n",
        "import numpy as np\n",
        "import pandas as pd\n",
        "from PIL import Image\n",
        "\n",
        "from torchvision import transforms\n",
        "\n",
        "import torch\n",
        "from torch.utils.data import Dataset\n",
        "\n",
        "def getImagesLabels(filename):\n",
        "\n",
        "    df = pd.read_csv(filename)\n",
        "    relevant_cols = ['Path', 'Enlarged Cardiomediastinum', 'Lung Opacity', 'Lung Lesion', 'Consolidation', \n",
        "                     'Pneumonia', 'Pneumothorax', 'Pleural Other', 'Support Devices', 'No Finding',\n",
        "                     'Atelectasis', 'Cardiomegaly', 'Consolidation', 'Edema', 'Pleural Effusion']\n",
        "\n",
        "    df = df[relevant_cols]\n",
        "    df = df.replace(np.nan, 0.0)\n",
        "\n",
        "    df = df.replace(-1.0, 0.0)\n",
        "\n",
        "\n",
        "    X = df['Path']\n",
        "    y = df[['Enlarged Cardiomediastinum', 'Lung Opacity', 'Lung Lesion', 'Consolidation', \n",
        "            'Pneumonia', 'Pneumothorax', 'Pleural Other', 'Support Devices', 'No Finding',\n",
        "            'Atelectasis', 'Cardiomegaly', 'Consolidation', 'Edema', 'Pleural Effusion']]\n",
        "\n",
        "    return np.asarray(X), np.asarray(y)\n"
      ],
      "execution_count": null,
      "outputs": []
    },
    {
      "cell_type": "code",
      "metadata": {
        "id": "wf3vlUH0IxLf"
      },
      "source": [
        "filename = '/content/drive/MyDrive/train.csv'\n",
        "\n",
        "df = pd.read_csv(filename)\n",
        "relevant_cols = ['Path', 'No Finding', 'Enlarged Cardiomediastinum', 'Cardiomegaly' ,\n",
        "                 'Lung Opacity', 'Lung Lesion', 'Edema',  'Consolidation',\n",
        "                 'Pneumonia', 'Atelectasis' ,'Pneumothorax', 'Pleural Effusion',\n",
        "                 'Pleural Other', 'Fracture', 'Support Devices']\n",
        "\n",
        "df = df[relevant_cols]\n",
        "df = df.replace(np.nan, 0.0)\n",
        "\n",
        "df = df.replace(-1.0, 0.0)\n",
        "\n",
        "\n",
        "X = df['Path']\n",
        "y = df[['No Finding', 'Enlarged Cardiomediastinum', 'Cardiomegaly' ,\n",
        "                 'Lung Opacity', 'Lung Lesion', 'Edema',  'Consolidation',\n",
        "                 'Pneumonia', 'Atelectasis' ,'Pneumothorax', 'Pleural Effusion',\n",
        "                 'Pleural Other', 'Fracture', 'Support Devices']]\n",
        "y.head()\n",
        "x1 = np.asarray(X)\n",
        "y1 = np.asarray(y)\n",
        "\n"
      ],
      "execution_count": 48,
      "outputs": []
    },
    {
      "cell_type": "code",
      "metadata": {
        "colab": {
          "base_uri": "https://localhost:8080/",
          "height": 243
        },
        "id": "iQCz8S-VKwW_",
        "outputId": "c8510154-79f3-4a8d-c85f-9800842bcecc"
      },
      "source": [
        "y.head()\n"
      ],
      "execution_count": 49,
      "outputs": [
        {
          "output_type": "execute_result",
          "data": {
            "text/html": [
              "<div>\n",
              "<style scoped>\n",
              "    .dataframe tbody tr th:only-of-type {\n",
              "        vertical-align: middle;\n",
              "    }\n",
              "\n",
              "    .dataframe tbody tr th {\n",
              "        vertical-align: top;\n",
              "    }\n",
              "\n",
              "    .dataframe thead th {\n",
              "        text-align: right;\n",
              "    }\n",
              "</style>\n",
              "<table border=\"1\" class=\"dataframe\">\n",
              "  <thead>\n",
              "    <tr style=\"text-align: right;\">\n",
              "      <th></th>\n",
              "      <th>No Finding</th>\n",
              "      <th>Enlarged Cardiomediastinum</th>\n",
              "      <th>Cardiomegaly</th>\n",
              "      <th>Lung Opacity</th>\n",
              "      <th>Lung Lesion</th>\n",
              "      <th>Edema</th>\n",
              "      <th>Consolidation</th>\n",
              "      <th>Pneumonia</th>\n",
              "      <th>Atelectasis</th>\n",
              "      <th>Pneumothorax</th>\n",
              "      <th>Pleural Effusion</th>\n",
              "      <th>Pleural Other</th>\n",
              "      <th>Fracture</th>\n",
              "      <th>Support Devices</th>\n",
              "    </tr>\n",
              "  </thead>\n",
              "  <tbody>\n",
              "    <tr>\n",
              "      <th>0</th>\n",
              "      <td>1.0</td>\n",
              "      <td>0.0</td>\n",
              "      <td>0.0</td>\n",
              "      <td>0.0</td>\n",
              "      <td>0.0</td>\n",
              "      <td>0.0</td>\n",
              "      <td>0.0</td>\n",
              "      <td>0.0</td>\n",
              "      <td>0.0</td>\n",
              "      <td>0.0</td>\n",
              "      <td>0.0</td>\n",
              "      <td>0.0</td>\n",
              "      <td>0.0</td>\n",
              "      <td>1.0</td>\n",
              "    </tr>\n",
              "    <tr>\n",
              "      <th>1</th>\n",
              "      <td>0.0</td>\n",
              "      <td>0.0</td>\n",
              "      <td>0.0</td>\n",
              "      <td>1.0</td>\n",
              "      <td>0.0</td>\n",
              "      <td>0.0</td>\n",
              "      <td>0.0</td>\n",
              "      <td>0.0</td>\n",
              "      <td>0.0</td>\n",
              "      <td>0.0</td>\n",
              "      <td>0.0</td>\n",
              "      <td>0.0</td>\n",
              "      <td>1.0</td>\n",
              "      <td>0.0</td>\n",
              "    </tr>\n",
              "    <tr>\n",
              "      <th>2</th>\n",
              "      <td>0.0</td>\n",
              "      <td>0.0</td>\n",
              "      <td>0.0</td>\n",
              "      <td>1.0</td>\n",
              "      <td>0.0</td>\n",
              "      <td>0.0</td>\n",
              "      <td>0.0</td>\n",
              "      <td>0.0</td>\n",
              "      <td>0.0</td>\n",
              "      <td>0.0</td>\n",
              "      <td>0.0</td>\n",
              "      <td>0.0</td>\n",
              "      <td>1.0</td>\n",
              "      <td>0.0</td>\n",
              "    </tr>\n",
              "    <tr>\n",
              "      <th>3</th>\n",
              "      <td>0.0</td>\n",
              "      <td>0.0</td>\n",
              "      <td>0.0</td>\n",
              "      <td>1.0</td>\n",
              "      <td>0.0</td>\n",
              "      <td>0.0</td>\n",
              "      <td>0.0</td>\n",
              "      <td>0.0</td>\n",
              "      <td>0.0</td>\n",
              "      <td>0.0</td>\n",
              "      <td>0.0</td>\n",
              "      <td>0.0</td>\n",
              "      <td>1.0</td>\n",
              "      <td>0.0</td>\n",
              "    </tr>\n",
              "    <tr>\n",
              "      <th>4</th>\n",
              "      <td>0.0</td>\n",
              "      <td>0.0</td>\n",
              "      <td>0.0</td>\n",
              "      <td>0.0</td>\n",
              "      <td>0.0</td>\n",
              "      <td>1.0</td>\n",
              "      <td>0.0</td>\n",
              "      <td>0.0</td>\n",
              "      <td>0.0</td>\n",
              "      <td>0.0</td>\n",
              "      <td>0.0</td>\n",
              "      <td>0.0</td>\n",
              "      <td>0.0</td>\n",
              "      <td>0.0</td>\n",
              "    </tr>\n",
              "  </tbody>\n",
              "</table>\n",
              "</div>"
            ],
            "text/plain": [
              "   No Finding  Enlarged Cardiomediastinum  ...  Fracture  Support Devices\n",
              "0         1.0                         0.0  ...       0.0              1.0\n",
              "1         0.0                         0.0  ...       1.0              0.0\n",
              "2         0.0                         0.0  ...       1.0              0.0\n",
              "3         0.0                         0.0  ...       1.0              0.0\n",
              "4         0.0                         0.0  ...       0.0              0.0\n",
              "\n",
              "[5 rows x 14 columns]"
            ]
          },
          "metadata": {},
          "execution_count": 49
        }
      ]
    },
    {
      "cell_type": "code",
      "metadata": {
        "colab": {
          "base_uri": "https://localhost:8080/"
        },
        "id": "kmWhcn1kI95N",
        "outputId": "dc12104d-59cc-43c6-b3f4-a1abd3cb34c9"
      },
      "source": [
        "print(x1[0])\n",
        "print(y1[0])"
      ],
      "execution_count": 51,
      "outputs": [
        {
          "output_type": "stream",
          "name": "stdout",
          "text": [
            "CheXpert-v1.0-small/train/patient00001/study1/view1_frontal.jpg\n",
            "[1. 0. 0. 0. 0. 0. 0. 0. 0. 0. 0. 0. 0. 1.]\n"
          ]
        }
      ]
    },
    {
      "cell_type": "code",
      "metadata": {
        "colab": {
          "base_uri": "https://localhost:8080/",
          "height": 338
        },
        "id": "Xjw4kf-3M_HY",
        "outputId": "82e953e4-b0f2-4693-bc33-837cbf77dce1"
      },
      "source": [
        "y.describe()"
      ],
      "execution_count": 53,
      "outputs": [
        {
          "output_type": "execute_result",
          "data": {
            "text/html": [
              "<div>\n",
              "<style scoped>\n",
              "    .dataframe tbody tr th:only-of-type {\n",
              "        vertical-align: middle;\n",
              "    }\n",
              "\n",
              "    .dataframe tbody tr th {\n",
              "        vertical-align: top;\n",
              "    }\n",
              "\n",
              "    .dataframe thead th {\n",
              "        text-align: right;\n",
              "    }\n",
              "</style>\n",
              "<table border=\"1\" class=\"dataframe\">\n",
              "  <thead>\n",
              "    <tr style=\"text-align: right;\">\n",
              "      <th></th>\n",
              "      <th>No Finding</th>\n",
              "      <th>Enlarged Cardiomediastinum</th>\n",
              "      <th>Cardiomegaly</th>\n",
              "      <th>Lung Opacity</th>\n",
              "      <th>Lung Lesion</th>\n",
              "      <th>Edema</th>\n",
              "      <th>Consolidation</th>\n",
              "      <th>Pneumonia</th>\n",
              "      <th>Atelectasis</th>\n",
              "      <th>Pneumothorax</th>\n",
              "      <th>Pleural Effusion</th>\n",
              "      <th>Pleural Other</th>\n",
              "      <th>Fracture</th>\n",
              "      <th>Support Devices</th>\n",
              "    </tr>\n",
              "  </thead>\n",
              "  <tbody>\n",
              "    <tr>\n",
              "      <th>count</th>\n",
              "      <td>223414.000000</td>\n",
              "      <td>223414.000000</td>\n",
              "      <td>223414.000000</td>\n",
              "      <td>223414.000000</td>\n",
              "      <td>223414.000000</td>\n",
              "      <td>223414.000000</td>\n",
              "      <td>223414.000000</td>\n",
              "      <td>223414.000000</td>\n",
              "      <td>223414.000000</td>\n",
              "      <td>223414.000000</td>\n",
              "      <td>223414.000000</td>\n",
              "      <td>223414.000000</td>\n",
              "      <td>223414.000000</td>\n",
              "      <td>223414.000000</td>\n",
              "    </tr>\n",
              "    <tr>\n",
              "      <th>mean</th>\n",
              "      <td>0.100177</td>\n",
              "      <td>0.048332</td>\n",
              "      <td>0.120852</td>\n",
              "      <td>0.472580</td>\n",
              "      <td>0.041116</td>\n",
              "      <td>0.233853</td>\n",
              "      <td>0.066169</td>\n",
              "      <td>0.027031</td>\n",
              "      <td>0.149391</td>\n",
              "      <td>0.087049</td>\n",
              "      <td>0.385773</td>\n",
              "      <td>0.015769</td>\n",
              "      <td>0.040463</td>\n",
              "      <td>0.519220</td>\n",
              "    </tr>\n",
              "    <tr>\n",
              "      <th>std</th>\n",
              "      <td>0.300237</td>\n",
              "      <td>0.214467</td>\n",
              "      <td>0.325956</td>\n",
              "      <td>0.499249</td>\n",
              "      <td>0.198560</td>\n",
              "      <td>0.423281</td>\n",
              "      <td>0.248577</td>\n",
              "      <td>0.162173</td>\n",
              "      <td>0.356474</td>\n",
              "      <td>0.281908</td>\n",
              "      <td>0.486778</td>\n",
              "      <td>0.124581</td>\n",
              "      <td>0.197043</td>\n",
              "      <td>0.499632</td>\n",
              "    </tr>\n",
              "    <tr>\n",
              "      <th>min</th>\n",
              "      <td>0.000000</td>\n",
              "      <td>0.000000</td>\n",
              "      <td>0.000000</td>\n",
              "      <td>0.000000</td>\n",
              "      <td>0.000000</td>\n",
              "      <td>0.000000</td>\n",
              "      <td>0.000000</td>\n",
              "      <td>0.000000</td>\n",
              "      <td>0.000000</td>\n",
              "      <td>0.000000</td>\n",
              "      <td>0.000000</td>\n",
              "      <td>0.000000</td>\n",
              "      <td>0.000000</td>\n",
              "      <td>0.000000</td>\n",
              "    </tr>\n",
              "    <tr>\n",
              "      <th>25%</th>\n",
              "      <td>0.000000</td>\n",
              "      <td>0.000000</td>\n",
              "      <td>0.000000</td>\n",
              "      <td>0.000000</td>\n",
              "      <td>0.000000</td>\n",
              "      <td>0.000000</td>\n",
              "      <td>0.000000</td>\n",
              "      <td>0.000000</td>\n",
              "      <td>0.000000</td>\n",
              "      <td>0.000000</td>\n",
              "      <td>0.000000</td>\n",
              "      <td>0.000000</td>\n",
              "      <td>0.000000</td>\n",
              "      <td>0.000000</td>\n",
              "    </tr>\n",
              "    <tr>\n",
              "      <th>50%</th>\n",
              "      <td>0.000000</td>\n",
              "      <td>0.000000</td>\n",
              "      <td>0.000000</td>\n",
              "      <td>0.000000</td>\n",
              "      <td>0.000000</td>\n",
              "      <td>0.000000</td>\n",
              "      <td>0.000000</td>\n",
              "      <td>0.000000</td>\n",
              "      <td>0.000000</td>\n",
              "      <td>0.000000</td>\n",
              "      <td>0.000000</td>\n",
              "      <td>0.000000</td>\n",
              "      <td>0.000000</td>\n",
              "      <td>1.000000</td>\n",
              "    </tr>\n",
              "    <tr>\n",
              "      <th>75%</th>\n",
              "      <td>0.000000</td>\n",
              "      <td>0.000000</td>\n",
              "      <td>0.000000</td>\n",
              "      <td>1.000000</td>\n",
              "      <td>0.000000</td>\n",
              "      <td>0.000000</td>\n",
              "      <td>0.000000</td>\n",
              "      <td>0.000000</td>\n",
              "      <td>0.000000</td>\n",
              "      <td>0.000000</td>\n",
              "      <td>1.000000</td>\n",
              "      <td>0.000000</td>\n",
              "      <td>0.000000</td>\n",
              "      <td>1.000000</td>\n",
              "    </tr>\n",
              "    <tr>\n",
              "      <th>max</th>\n",
              "      <td>1.000000</td>\n",
              "      <td>1.000000</td>\n",
              "      <td>1.000000</td>\n",
              "      <td>1.000000</td>\n",
              "      <td>1.000000</td>\n",
              "      <td>1.000000</td>\n",
              "      <td>1.000000</td>\n",
              "      <td>1.000000</td>\n",
              "      <td>1.000000</td>\n",
              "      <td>1.000000</td>\n",
              "      <td>1.000000</td>\n",
              "      <td>1.000000</td>\n",
              "      <td>1.000000</td>\n",
              "      <td>1.000000</td>\n",
              "    </tr>\n",
              "  </tbody>\n",
              "</table>\n",
              "</div>"
            ],
            "text/plain": [
              "          No Finding  ...  Support Devices\n",
              "count  223414.000000  ...    223414.000000\n",
              "mean        0.100177  ...         0.519220\n",
              "std         0.300237  ...         0.499632\n",
              "min         0.000000  ...         0.000000\n",
              "25%         0.000000  ...         0.000000\n",
              "50%         0.000000  ...         1.000000\n",
              "75%         0.000000  ...         1.000000\n",
              "max         1.000000  ...         1.000000\n",
              "\n",
              "[8 rows x 14 columns]"
            ]
          },
          "metadata": {},
          "execution_count": 53
        }
      ]
    },
    {
      "cell_type": "code",
      "metadata": {
        "colab": {
          "base_uri": "https://localhost:8080/"
        },
        "id": "URtMCmc4Nc9Q",
        "outputId": "7c54bc58-827c-4a75-ccdd-82fa2b50c49a"
      },
      "source": [
        "#(y[1] == 0).sum(axis=1)\n",
        "#a =y.isin([0]).sum(axis=1)\n",
        "#print(a)\n",
        "neg_y = (y[0:18000] == 0).sum(axis=0)\n",
        "print(neg_y)"
      ],
      "execution_count": 71,
      "outputs": [
        {
          "output_type": "stream",
          "name": "stdout",
          "text": [
            "No Finding                    15874\n",
            "Enlarged Cardiomediastinum    17160\n",
            "Cardiomegaly                  15736\n",
            "Lung Opacity                  10043\n",
            "Lung Lesion                   17262\n",
            "Edema                         14422\n",
            "Consolidation                 16873\n",
            "Pneumonia                     17488\n",
            "Atelectasis                   15558\n",
            "Pneumothorax                  16334\n",
            "Pleural Effusion              11667\n",
            "Pleural Other                 17635\n",
            "Fracture                      17217\n",
            "Support Devices                9771\n",
            "dtype: int64\n"
          ]
        }
      ]
    },
    {
      "cell_type": "code",
      "metadata": {
        "colab": {
          "base_uri": "https://localhost:8080/"
        },
        "id": "7XZIo_wqOzil",
        "outputId": "e4db8b35-3629-49ab-de88-15cc3eda262d"
      },
      "source": [
        "pos_y = (y[0:18000] == 1).sum(axis=0)\n",
        "print(pos_y)"
      ],
      "execution_count": 72,
      "outputs": [
        {
          "output_type": "stream",
          "name": "stdout",
          "text": [
            "No Finding                    2126\n",
            "Enlarged Cardiomediastinum     840\n",
            "Cardiomegaly                  2264\n",
            "Lung Opacity                  7957\n",
            "Lung Lesion                    738\n",
            "Edema                         3578\n",
            "Consolidation                 1127\n",
            "Pneumonia                      512\n",
            "Atelectasis                   2442\n",
            "Pneumothorax                  1666\n",
            "Pleural Effusion              6333\n",
            "Pleural Other                  365\n",
            "Fracture                       783\n",
            "Support Devices               8229\n",
            "dtype: int64\n"
          ]
        }
      ]
    },
    {
      "cell_type": "code",
      "metadata": {
        "id": "Gy0uDlRVP2gg"
      },
      "source": [
        "#For example, if a dataset contains 100 positive and 300 negative \n",
        "#examples of a single class, then pos_weight for the class should \n",
        "#be equal to 300100=3\\frac{300}{100}=3100300​=3. \n",
        "#The loss would act as if the dataset contains 3×100=3003\\times \n",
        "#100=3003×100=300 positive examples\n",
        "\n",
        "#W = Neg/Pos"
      ],
      "execution_count": null,
      "outputs": []
    },
    {
      "cell_type": "code",
      "metadata": {
        "colab": {
          "base_uri": "https://localhost:8080/"
        },
        "id": "UAiaLPClO1sw",
        "outputId": "95eedc39-6797-458a-b7c9-2d3f1e8ec690"
      },
      "source": [
        "#weigths\n",
        "No_Finding  = 201033 / 22381\n",
        "print('No_Finding',No_Finding)\n",
        "Enlarged_Cardiomediastinum = 212616 / 10798\n",
        "print('Enlarged_Cardiomediastinum',Enlarged_Cardiomediastinum)\n",
        "Cardiomegaly_W = 196414 / 27000\n",
        "print('Cardiomegaly_W',Cardiomegaly_W)\n",
        "Lung_Opacity = 117833 / 105581\n",
        "print('Lung_Opacity',Lung_Opacity)\n",
        "Lung_Lesion = 214228 / 9186\n",
        "print('Lung_Lesion',Lung_Lesion)\n",
        "Edema = 171168 / 52246\n",
        "print('Edema',Edema)\n",
        "Consolidation = 208631/14783\n",
        "print('Consolidation', Consolidation)\n",
        "Pneumonia = 217375/6039\n",
        "print('Pneumonia',Pneumonia)\n",
        "Atelectasis = 190038/33376\n",
        "print('Atelectasis', Atelectasis)\n",
        "Pneumothorax = 203966 / 19448\n",
        "print('Pneumothorax', Pneumothorax)\n",
        "Pleural_Effusion = 137227 / 86187\n",
        "print('Pleural_Effusion', Pleural_Effusion)\n",
        "Pleural_Other = 219891 / 3523\n",
        "print('Pleural_Othe', Pleural_Other)\n",
        "Fracture = 214374/9040\n",
        "print('Fracture', Fracture)\n",
        "Support_Devices = 107413 / 116001\n",
        "print('Support_Devices',Support_Devices)"
      ],
      "execution_count": 66,
      "outputs": [
        {
          "output_type": "stream",
          "name": "stdout",
          "text": [
            "No_Finding 8.982306420624637\n",
            "Enlarged_Cardiomediastinum 19.690313020929803\n",
            "Cardiomegaly_W 7.274592592592593\n",
            "Lung_Opacity 1.1160436063306844\n",
            "Lung_Lesion 23.321140866536034\n",
            "Edema 3.2761933927956206\n",
            "Consolidation 14.112899952648313\n",
            "Pneumonia 35.99519788044378\n",
            "Atelectasis 5.693851869606903\n",
            "Pneumothorax 10.487762237762238\n",
            "Pleural_Effusion 1.5922006799169248\n",
            "Pleural_Othe 62.41583877377235\n",
            "Fracture 23.713938053097344\n",
            "Support_Devices 0.925966155464177\n"
          ]
        }
      ]
    },
    {
      "cell_type": "code",
      "metadata": {
        "colab": {
          "base_uri": "https://localhost:8080/"
        },
        "id": "k8j1vJZhWjEg",
        "outputId": "d116a0c1-01f7-413b-c225-f0e6883edccd"
      },
      "source": [
        "for i in range(len(pos_y)):\n",
        "  #print(pos_y[i])\n",
        "  #print(neg_y[i])\n",
        "  a = neg_y[i]/pos_y[i]\n",
        "  print(a)\n"
      ],
      "execution_count": 76,
      "outputs": [
        {
          "output_type": "stream",
          "name": "stdout",
          "text": [
            "7.466603951081844\n",
            "20.428571428571427\n",
            "6.950530035335689\n",
            "1.2621591051903984\n",
            "23.390243902439025\n",
            "4.0307434320849636\n",
            "14.971606033717835\n",
            "34.15625\n",
            "6.371007371007371\n",
            "9.804321728691477\n",
            "1.8422548555187115\n",
            "48.31506849315068\n",
            "21.988505747126435\n",
            "1.1873860736419979\n"
          ]
        }
      ]
    }
  ]
}